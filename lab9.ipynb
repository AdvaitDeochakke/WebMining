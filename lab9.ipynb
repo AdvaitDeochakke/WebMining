{
 "cells": [
  {
   "attachments": {},
   "cell_type": "markdown",
   "metadata": {},
   "source": [
    "# Lab 9 - HITS Algirhtm\n",
    "## Advait Deochakke 20BCE1143"
   ]
  },
  {
   "cell_type": "code",
   "execution_count": 19,
   "metadata": {},
   "outputs": [],
   "source": [
    "# assuming outlink data is processed into a NetworkX graph G\n",
    "import numpy as np\n",
    "import networkx as nx\n",
    "from math import sqrt\n",
    "from math import pow"
   ]
  },
  {
   "cell_type": "code",
   "execution_count": 28,
   "metadata": {},
   "outputs": [],
   "source": [
    "def get_node_dict(G):\n",
    "    node_dict = {node: i for i, node in enumerate(G.nodes())}\n",
    "    return node_dict\n",
    "\n",
    "def get_predec_dict(G, node):\n",
    "    node_dict = {node1: i for i, node1 in enumerate(G.predecessors(node))}\n",
    "    return node_dict\n",
    "    \n",
    "def get_succ_dict(G, node):\n",
    "    nodes = list(G.nodes())\n",
    "    #node_index = nodes.index(node)\n",
    "    succ_dict = {succ: nodes.index(succ) for succ in G.successors(node)}\n",
    "    return succ_dict\n"
   ]
  },
  {
   "cell_type": "code",
   "execution_count": 29,
   "metadata": {},
   "outputs": [],
   "source": [
    "def hits(G, max_iter=100, conv_tol=1e-6):\n",
    "    n = G.number_of_nodes()\n",
    "    hubs = np.ones(n) # set all hub scores as 1\n",
    "    authorities = np.ones(n) # set all authority scores as 1\n",
    "    node_dict = get_node_dict(G)\n",
    "    #print(node_dict)\n",
    "    for iterations in range(max_iter): # iteratae\n",
    "        norm_auth =0\n",
    "        norm_hub = 0\n",
    "        old_hubs = hubs.copy()\n",
    "        old_authorities = authorities.copy()\n",
    "    #     idx = 0\n",
    "        # update hubs and authorities\n",
    "        for node in G.nodes():\n",
    "            node_idx = node_dict[node]\n",
    "            predec_dict = get_predec_dict(G, node)\n",
    "            predec_idx = [node_dict[node1] for node1 in predec_dict]\n",
    "            authorities[node_idx] = sum(old_hubs[k] for k in predec_idx)\n",
    "            norm_auth += pow(authorities[node_idx], 2)\n",
    "            #print(\"authority for node\", node, \"is\", authorities[node_idx])# graph things\n",
    "        norm_auth = sqrt(norm_auth)\n",
    "        \n",
    "        for node in G.nodes():\n",
    "            node_idx = node_dict[node]\n",
    "            succ_dict = get_succ_dict(G, node)\n",
    "            indices = [succ_dict[n] for n in G.successors(node)]\n",
    "            hubs[node_idx] = sum(old_authorities[k] for k in indices)\n",
    "            norm_hub += pow(hubs[node_idx], 2)\n",
    "            #print(\"hubs for node\", node, \"is\", hubs[node_idx])\n",
    "        norm_hub = sqrt(norm_hub)\n",
    "        #hubs = np.array(np.split(hubs, len(G)))\n",
    "        #hubs = np.array(list(get_succ_dict(G, node1).values()) for node1 in G.nodes())\n",
    "        #hubs = np.sum(hubs, axis=1)\n",
    "        \n",
    "        # normalize with method\n",
    "        hubs = hubs/norm_hub\n",
    "        authorities = authorities/norm_auth\n",
    "        #norm = np.linalg.norm(hubs)\n",
    "        # hubs /= norm\n",
    "        # authorities /= norm\n",
    "        \n",
    "        # Check for convergence\n",
    "        if np.max(np.abs(hubs - old_hubs)) < conv_tol and np.max(np.abs(authorities - old_authorities)) < conv_tol:\n",
    "            break\n",
    "    return hubs, authorities"
   ]
  },
  {
   "cell_type": "code",
   "execution_count": 30,
   "metadata": {},
   "outputs": [
    {
     "name": "stdout",
     "output_type": "stream",
     "text": [
      "DiGraph with 6 nodes and 15 edges\n"
     ]
    }
   ],
   "source": [
    "\n",
    "G = nx.DiGraph()\n",
    "\n",
    "# Add the nodes\n",
    "G.add_nodes_from(['A', 'B', 'C', 'D', 'E', 'F'])\n",
    "\n",
    "# Add the edges\n",
    "G.add_edges_from([('A', 'B'), ('A', 'C'), ('A', 'D'),\n",
    "                  ('B', 'A'), ('B', 'C'), ('B', 'D'),\n",
    "                  ('C', 'B'), ('C', 'D'),\n",
    "                  ('D', 'A'), ('D', 'D'), ('D', 'E'),\n",
    "                  ('E', 'B'), ('E', 'C'), ('E', 'D'),\n",
    "                  ('F', 'A')])\n",
    "# it takes you about two hours to realize that working with a complete weighted, directed graph with\n",
    "# base weight as zero to show no edge and weight as 1 to show edge\n",
    "# is so much easier to work with than whatever i was tyring to do above\n",
    "\n",
    "print(G)"
   ]
  },
  {
   "cell_type": "code",
   "execution_count": 31,
   "metadata": {},
   "outputs": [
    {
     "name": "stdout",
     "output_type": "stream",
     "text": [
      "Hubs: [0.51218386 0.46336098 0.36194982 0.34829915 0.51218386 0.09117025]\n",
      "Authorities: [0.2868994  0.44053938 0.4727658  0.69846677 0.11068176 0.        ]\n"
     ]
    }
   ],
   "source": [
    "hubs_hard, authorities_hard = hits(G)\n",
    "print(\"Hubs:\", hubs_hard)\n",
    "print(\"Authorities:\", authorities_hard)"
   ]
  },
  {
   "cell_type": "code",
   "execution_count": 6,
   "metadata": {},
   "outputs": [
    {
     "name": "stdout",
     "output_type": "stream",
     "text": [
      "Hubs: {'A': 0.22374463599524844, 'B': 0.2024161791536921, 'C': 0.15811574414224222, 'D': 0.15215192574521555, 'E': 0.22374463599524844, 'F': 0.039826878968353255}\n",
      "Authorities: {'A': 0.14278134433896675, 'B': 0.21924492419750571, 'C': 0.23528284537924313, 'D': 0.3476078921561056, 'E': 0.05508299392817882, 'F': -0.0}\n"
     ]
    },
    {
     "name": "stderr",
     "output_type": "stream",
     "text": [
      "c:\\Users\\advai\\anaconda3\\lib\\site-packages\\networkx\\algorithms\\link_analysis\\hits_alg.py:78: FutureWarning: adjacency_matrix will return a scipy.sparse array instead of a matrix in Networkx 3.0.\n",
      "  A = nx.adjacency_matrix(G, nodelist=list(G), dtype=float)\n"
     ]
    }
   ],
   "source": [
    "hubs, authorities = nx.hits(G)\n",
    "\n",
    "print(\"Hubs:\", hubs)\n",
    "print(\"Authorities:\", authorities)"
   ]
  },
  {
   "attachments": {},
   "cell_type": "markdown",
   "metadata": {},
   "source": [
    "For whatever reason, the hard-coded Hubs and Authorities are around double, or rather\n",
    "\n",
    "perfectly in ratio with the nx.hits version. Im not sure where im going wrong, but ratio wise we good"
   ]
  }
 ],
 "metadata": {
  "kernelspec": {
   "display_name": "base",
   "language": "python",
   "name": "python3"
  },
  "language_info": {
   "codemirror_mode": {
    "name": "ipython",
    "version": 3
   },
   "file_extension": ".py",
   "mimetype": "text/x-python",
   "name": "python",
   "nbconvert_exporter": "python",
   "pygments_lexer": "ipython3",
   "version": "3.9.13"
  },
  "orig_nbformat": 4,
  "vscode": {
   "interpreter": {
    "hash": "d7c46f30ffc0ccba8cc2afcfb8c5ea880eef7da12fdeb64fae7609d603d30008"
   }
  }
 },
 "nbformat": 4,
 "nbformat_minor": 2
}
