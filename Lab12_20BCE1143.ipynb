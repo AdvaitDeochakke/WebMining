{
 "cells": [
  {
   "attachments": {},
   "cell_type": "markdown",
   "metadata": {},
   "source": [
    "# Lab 12 - Sessionalization\n",
    "\n",
    "\n",
    "## Advait Deochakke - 20BCE1143"
   ]
  },
  {
   "cell_type": "code",
   "execution_count": 23,
   "metadata": {},
   "outputs": [
    {
     "name": "stdout",
     "output_type": "stream",
     "text": [
      "H1 session: [0, 1]\n",
      "H1 session: [2, 3, 4]\n",
      "H1 session: [5]\n",
      "H1 session: [6]\n",
      "H1 session: [7]\n",
      "H1 session: [8]\n",
      "H1 session: [9, 10, 11, 12]\n",
      "H1 session: [13, 14]\n",
      "H1 session: [15]\n",
      "H1 session: [16, 17, 18]\n",
      "H2 session: [0, 1]\n",
      "H2 session: [2, 3]\n",
      "H2 session: [4]\n",
      "H2 session: [5]\n",
      "H2 session: [6]\n",
      "H2 session: [7]\n",
      "H2 session: [8]\n",
      "H2 session: [9, 10]\n",
      "H2 session: [11]\n",
      "H2 session: [12]\n",
      "H2 session: [13, 14]\n",
      "H2 session: [15]\n",
      "H2 session: [16]\n",
      "H2 session: [17, 18]\n"
     ]
    }
   ],
   "source": [
    "import pandas as pd\n",
    "from datetime import datetime, timedelta\n",
    "\n",
    "# Load log data into a Pandas DataFrame\n",
    "# log_data = pd.read_csv('log_file.csv')\n",
    "log_data = pd.read_csv('given_log.csv') # read the file\n",
    "\n",
    "# Convert timestamps to datetime objects\n",
    "# log_data['Time'] = pd.to_datetime(log_data['Time'], format='%Y-%m-%d %H:%M:%S')\n",
    "log_data['Time'] = pd.to_datetime(log_data['Time'], format='%H:%M') # time stuff\n",
    "\n",
    "# H1: Total session duration may not exceed a threshold Theta.\n",
    "# Given t0, the timestamp for the first request in a constructed session S,\n",
    "# the request with a timestamp t is assigned to S, if (t - t0) <= Theta.\n",
    "# H3 is included - Time&Agent matching\n",
    "def assign_sessions_h1(log_data, theta):\n",
    "    sessions = []\n",
    "    current_session = []\n",
    "    last_request_time = None\n",
    "    cur_user = None\n",
    "    for index, row in log_data.iterrows():\n",
    "        if last_request_time is None or (row['Time'] - last_request_time) > theta or (row['IP'], row['Agent']) != cur_user:\n",
    "            current_session = []\n",
    "            sessions.append(current_session)\n",
    "        current_session.append(index)\n",
    "        last_request_time = row['Time']\n",
    "        cur_user = (row['IP'], row['Agent'])\n",
    "    return sessions\n",
    "\n",
    "# H2: Total time spent on a page may not exceed a threshold delta.\n",
    "# Given t1, the timestamp for the request assigned to constructed session S,\n",
    "# the next request with timestamp t2 is assigned to S, if (t2 - t1) <= delta.\n",
    "# H3 is included - Time&Agent matching\n",
    "def assign_sessions_h2(log_data, delta):\n",
    "    sessions = []\n",
    "    current_session = []\n",
    "    last_request_time = None\n",
    "    cur_user = None\n",
    "    last_request_url = None #referer\n",
    "    for index, row in log_data.iterrows():\n",
    "        if last_request_time is None or (row['Time'] - last_request_time) > delta or (row['IP'], row['Agent']) != cur_user or row['Ref'] != last_request_url:#row['Referer URL'] != last_request_url:\n",
    "            # if last_request_time is None:\n",
    "            #     print(\"last request none\")\n",
    "            # elif row['URL visited'] != last_request_url:\n",
    "            #     print(\"row['URL visited'] != last_request_url:\")\n",
    "            # else:\n",
    "            #     print(\"(row['Time'] - last_request_time) > delta\")\n",
    "            current_session = []\n",
    "            sessions.append(current_session)\n",
    "        current_session.append(index)\n",
    "        last_request_time = row['Time']\n",
    "        cur_user = (row['IP'], row['Agent'])\n",
    "        last_request_url = row['URL']#row['URL visited']\n",
    "    return sessions\n",
    "\n",
    "# heuristic 1 and 2 already include the 3rd heuristic - IP&Agent matching in them.\n",
    "sessions_h1 = assign_sessions_h1(log_data, timedelta(minutes=30))\n",
    "sessions_h2 = assign_sessions_h2(log_data, timedelta(minutes=10))\n",
    "\n",
    "# Print the sessions\n",
    "for session in sessions_h1:\n",
    "    print('H1 session:', session)\n",
    "\n",
    "for session in sessions_h2:\n",
    "    print('H2 session:', session)\n"
   ]
  },
  {
   "cell_type": "code",
   "execution_count": 24,
   "metadata": {},
   "outputs": [
    {
     "name": "stdout",
     "output_type": "stream",
     "text": [
      "                  Time       IP URL  Ref          Agent\n",
      "0  1900-01-01 00:01:00  1.2.3.4   A  NaN      IE5;Win2k\n",
      "1  1900-01-01 00:09:00  1.2.3.4   B    A      IE5;Win2k\n",
      "2  1900-01-01 00:10:00  2.3.4.5   C  NaN  IE6;WinXP;SP1\n",
      "3  1900-01-01 00:12:00  2.3.4.5   B    C  IE6;WinXP;SP1\n",
      "4  1900-01-01 00:15:00  2.3.4.5   E    C  IE6;WinXP;SP1\n",
      "5  1900-01-01 00:19:00  1.2.3.4   C    A      IE5;Win2k\n",
      "6  1900-01-01 00:22:00  2.3.4.5   D    B  IE6;WinXP;SP1\n",
      "7  1900-01-01 00:22:00  1.2.3.4   A  NaN  IE6;WinXP;SP2\n",
      "8  1900-01-01 00:25:00  1.2.3.4   E    C      IE5;Win2k\n",
      "9  1900-01-01 00:25:00  1.2.3.4   C    A  IE6;WinXP;SP2\n",
      "10 1900-01-01 00:33:00  1.2.3.4   B    C  IE6;WinXP;SP2\n",
      "11 1900-01-01 00:58:00  1.2.3.4   D    B  IE6;WinXP;SP2\n",
      "12 1900-01-01 01:10:00  1.2.3.4   E    D  IE6;WinXP;SP2\n",
      "13 1900-01-01 01:15:00  1.2.3.4   A  NaN      IE5;Win2k\n",
      "14 1900-01-01 01:16:00  1.2.3.4   C    A      IE5;Win2k\n",
      "15 1900-01-01 01:17:00  1.2.3.4   F    C  IE6;WinXP;SP2\n",
      "16 1900-01-01 01:26:00  1.2.3.4   F    C      IE5;Win2k\n",
      "17 1900-01-01 01:30:00  1.2.3.4   B    A      IE5;Win2k\n",
      "18 1900-01-01 01:36:00  1.2.3.4   D    B      IE5;Win2k\n"
     ]
    }
   ],
   "source": [
    "print(log_data)\n",
    "# used OCR to turn it into a .csv file"
   ]
  }
 ],
 "metadata": {
  "kernelspec": {
   "display_name": "base",
   "language": "python",
   "name": "python3"
  },
  "language_info": {
   "codemirror_mode": {
    "name": "ipython",
    "version": 3
   },
   "file_extension": ".py",
   "mimetype": "text/x-python",
   "name": "python",
   "nbconvert_exporter": "python",
   "pygments_lexer": "ipython3",
   "version": "3.9.16"
  },
  "orig_nbformat": 4
 },
 "nbformat": 4,
 "nbformat_minor": 2
}
