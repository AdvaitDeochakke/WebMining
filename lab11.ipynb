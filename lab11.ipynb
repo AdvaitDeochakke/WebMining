{
 "cells": [
  {
   "cell_type": "code",
   "execution_count": 1,
   "metadata": {},
   "outputs": [],
   "source": [
    "# data parsing because its an image\n",
    "# self tip: use yandex ocr -> text\n",
    "\n",
    "import pandas as pd\n",
    "\n",
    "golf_df = pd.DataFrame()\n",
    "\n",
    "#add outlook\n",
    "golf_df['Outlook'] = ['rainy', 'rainy', 'overcast', 'sunny', 'sunny', 'sunny', \n",
    "                     'overcast', 'rainy', 'rainy', 'sunny', 'rainy', 'overcast',\n",
    "                     'overcast', 'sunny']\n",
    "\n",
    "#add temperature\n",
    "golf_df['Temperature'] = ['hot', 'hot', 'hot', 'mild', 'cool', 'cool', 'cool',\n",
    "                         'mild', 'cool', 'mild', 'mild', 'mild', 'hot', 'mild']\n",
    "\n",
    "#add humidity\n",
    "golf_df['Humidity'] = ['high', 'high', 'high', 'high', 'normal', 'normal', 'normal',\n",
    "                      'high', 'normal', 'normal', 'normal', 'high', 'normal', 'high']\n",
    "\n",
    "#add windy\n",
    "golf_df['Windy'] = ['false', 'true', 'false', 'false', 'false', 'true', 'true',\n",
    "                   'false', 'false', 'false', 'true', 'true', 'false', 'true']\n",
    "\n",
    "#finally add play\n",
    "golf_df['Play'] = ['no', 'no', 'yes', 'yes', 'yes', 'no', 'yes', 'no', 'yes', 'yes', 'yes', \n",
    "                  'yes', 'yes', 'no']"
   ]
  },
  {
   "cell_type": "code",
   "execution_count": 2,
   "metadata": {},
   "outputs": [
    {
     "name": "stdout",
     "output_type": "stream",
     "text": [
      "Outlook :\n",
      "overcast - 0\n",
      "rainy - 1\n",
      "sunny - 2\n",
      "Temperature :\n",
      "cool - 0\n",
      "hot - 1\n",
      "mild - 2\n",
      "Humidity :\n",
      "high - 0\n",
      "normal - 1\n",
      "Windy :\n",
      "false - 0\n",
      "true - 1\n",
      "Play :\n",
      "no - 0\n",
      "yes - 1\n",
      "    Outlook  Temperature  Humidity  Windy  Play\n",
      "0         1            1         0      0     0\n",
      "1         1            1         0      1     0\n",
      "2         0            1         0      0     1\n",
      "3         2            2         0      0     1\n",
      "4         2            0         1      0     1\n",
      "5         2            0         1      1     0\n",
      "6         0            0         1      1     1\n",
      "7         1            2         0      0     0\n",
      "8         1            0         1      0     1\n",
      "9         2            2         1      0     1\n",
      "10        1            2         1      1     1\n",
      "11        0            2         0      1     1\n",
      "12        0            1         1      0     1\n",
      "13        2            2         0      1     0\n"
     ]
    }
   ],
   "source": [
    "from sklearn import tree\n",
    "from sklearn.preprocessing import LabelEncoder\n",
    "mytree = tree.DecisionTreeClassifier()\n",
    "label_encoder = LabelEncoder()\n",
    "for col in golf_df.columns:\n",
    "    encoded_col = label_encoder.fit_transform(golf_df[col])\n",
    "    print(col + \" :\")\n",
    "    for label, value in zip(label_encoder.classes_, label_encoder.transform(label_encoder.classes_)):\n",
    "        print(label, '-', value)\n",
    "    golf_df[col] = encoded_col\n",
    "    \n",
    "print(golf_df)\n",
    "# golf_df = pd.get_dummies(golf_df)\n",
    "# mytree.fit(golf_df, golf_df['Play'])"
   ]
  },
  {
   "cell_type": "code",
   "execution_count": 3,
   "metadata": {},
   "outputs": [
    {
     "data": {
      "text/html": [
       "<style>#sk-container-id-1 {color: black;background-color: white;}#sk-container-id-1 pre{padding: 0;}#sk-container-id-1 div.sk-toggleable {background-color: white;}#sk-container-id-1 label.sk-toggleable__label {cursor: pointer;display: block;width: 100%;margin-bottom: 0;padding: 0.3em;box-sizing: border-box;text-align: center;}#sk-container-id-1 label.sk-toggleable__label-arrow:before {content: \"▸\";float: left;margin-right: 0.25em;color: #696969;}#sk-container-id-1 label.sk-toggleable__label-arrow:hover:before {color: black;}#sk-container-id-1 div.sk-estimator:hover label.sk-toggleable__label-arrow:before {color: black;}#sk-container-id-1 div.sk-toggleable__content {max-height: 0;max-width: 0;overflow: hidden;text-align: left;background-color: #f0f8ff;}#sk-container-id-1 div.sk-toggleable__content pre {margin: 0.2em;color: black;border-radius: 0.25em;background-color: #f0f8ff;}#sk-container-id-1 input.sk-toggleable__control:checked~div.sk-toggleable__content {max-height: 200px;max-width: 100%;overflow: auto;}#sk-container-id-1 input.sk-toggleable__control:checked~label.sk-toggleable__label-arrow:before {content: \"▾\";}#sk-container-id-1 div.sk-estimator input.sk-toggleable__control:checked~label.sk-toggleable__label {background-color: #d4ebff;}#sk-container-id-1 div.sk-label input.sk-toggleable__control:checked~label.sk-toggleable__label {background-color: #d4ebff;}#sk-container-id-1 input.sk-hidden--visually {border: 0;clip: rect(1px 1px 1px 1px);clip: rect(1px, 1px, 1px, 1px);height: 1px;margin: -1px;overflow: hidden;padding: 0;position: absolute;width: 1px;}#sk-container-id-1 div.sk-estimator {font-family: monospace;background-color: #f0f8ff;border: 1px dotted black;border-radius: 0.25em;box-sizing: border-box;margin-bottom: 0.5em;}#sk-container-id-1 div.sk-estimator:hover {background-color: #d4ebff;}#sk-container-id-1 div.sk-parallel-item::after {content: \"\";width: 100%;border-bottom: 1px solid gray;flex-grow: 1;}#sk-container-id-1 div.sk-label:hover label.sk-toggleable__label {background-color: #d4ebff;}#sk-container-id-1 div.sk-serial::before {content: \"\";position: absolute;border-left: 1px solid gray;box-sizing: border-box;top: 0;bottom: 0;left: 50%;z-index: 0;}#sk-container-id-1 div.sk-serial {display: flex;flex-direction: column;align-items: center;background-color: white;padding-right: 0.2em;padding-left: 0.2em;position: relative;}#sk-container-id-1 div.sk-item {position: relative;z-index: 1;}#sk-container-id-1 div.sk-parallel {display: flex;align-items: stretch;justify-content: center;background-color: white;position: relative;}#sk-container-id-1 div.sk-item::before, #sk-container-id-1 div.sk-parallel-item::before {content: \"\";position: absolute;border-left: 1px solid gray;box-sizing: border-box;top: 0;bottom: 0;left: 50%;z-index: -1;}#sk-container-id-1 div.sk-parallel-item {display: flex;flex-direction: column;z-index: 1;position: relative;background-color: white;}#sk-container-id-1 div.sk-parallel-item:first-child::after {align-self: flex-end;width: 50%;}#sk-container-id-1 div.sk-parallel-item:last-child::after {align-self: flex-start;width: 50%;}#sk-container-id-1 div.sk-parallel-item:only-child::after {width: 0;}#sk-container-id-1 div.sk-dashed-wrapped {border: 1px dashed gray;margin: 0 0.4em 0.5em 0.4em;box-sizing: border-box;padding-bottom: 0.4em;background-color: white;}#sk-container-id-1 div.sk-label label {font-family: monospace;font-weight: bold;display: inline-block;line-height: 1.2em;}#sk-container-id-1 div.sk-label-container {text-align: center;}#sk-container-id-1 div.sk-container {/* jupyter's `normalize.less` sets `[hidden] { display: none; }` but bootstrap.min.css set `[hidden] { display: none !important; }` so we also need the `!important` here to be able to override the default hidden behavior on the sphinx rendered scikit-learn.org. See: https://github.com/scikit-learn/scikit-learn/issues/21755 */display: inline-block !important;position: relative;}#sk-container-id-1 div.sk-text-repr-fallback {display: none;}</style><div id=\"sk-container-id-1\" class=\"sk-top-container\"><div class=\"sk-text-repr-fallback\"><pre>DecisionTreeClassifier()</pre><b>In a Jupyter environment, please rerun this cell to show the HTML representation or trust the notebook. <br />On GitHub, the HTML representation is unable to render, please try loading this page with nbviewer.org.</b></div><div class=\"sk-container\" hidden><div class=\"sk-item\"><div class=\"sk-estimator sk-toggleable\"><input class=\"sk-toggleable__control sk-hidden--visually\" id=\"sk-estimator-id-1\" type=\"checkbox\" checked><label for=\"sk-estimator-id-1\" class=\"sk-toggleable__label sk-toggleable__label-arrow\">DecisionTreeClassifier</label><div class=\"sk-toggleable__content\"><pre>DecisionTreeClassifier()</pre></div></div></div></div></div>"
      ],
      "text/plain": [
       "DecisionTreeClassifier()"
      ]
     },
     "execution_count": 3,
     "metadata": {},
     "output_type": "execute_result"
    }
   ],
   "source": [
    "mytree.fit(golf_df[['Outlook', 'Temperature', 'Humidity', 'Windy']], golf_df['Play'])"
   ]
  },
  {
   "cell_type": "code",
   "execution_count": 4,
   "metadata": {},
   "outputs": [
    {
     "name": "stdout",
     "output_type": "stream",
     "text": [
      "[0]\n",
      "[1]\n"
     ]
    },
    {
     "name": "stderr",
     "output_type": "stream",
     "text": [
      "c:\\Users\\advai\\anaconda3\\lib\\site-packages\\sklearn\\base.py:420: UserWarning: X does not have valid feature names, but DecisionTreeClassifier was fitted with feature names\n",
      "  warnings.warn(\n",
      "c:\\Users\\advai\\anaconda3\\lib\\site-packages\\sklearn\\base.py:420: UserWarning: X does not have valid feature names, but DecisionTreeClassifier was fitted with feature names\n",
      "  warnings.warn(\n"
     ]
    }
   ],
   "source": [
    "# to predict for rainy, cool, high, true\n",
    "print(mytree.predict([[1, 0, 0, 1]])) # prints 0 - no\n",
    "\n",
    "# to predict for sunny, mild, normal, false\n",
    "print(mytree.predict([[2, 2, 1, 0]])) # prints 1 - yes\n",
    "\n",
    "# disregard warning, its because the input is not a dataframe with valid feature names\n",
    "# but just the 'row' andit still works but error"
   ]
  },
  {
   "cell_type": "code",
   "execution_count": 5,
   "metadata": {},
   "outputs": [
    {
     "name": "stdout",
     "output_type": "stream",
     "text": [
      "austen-emma.txt\n",
      "austen-persuasion.txt\n",
      "austen-sense.txt\n",
      "bible-kjv.txt\n",
      "blake-poems.txt\n",
      "bryant-stories.txt\n",
      "burgess-busterbrown.txt\n",
      "carroll-alice.txt\n",
      "chesterton-ball.txt\n",
      "chesterton-brown.txt\n",
      "chesterton-thursday.txt\n",
      "edgeworth-parents.txt\n",
      "melville-moby_dick.txt\n",
      "milton-paradise.txt\n",
      "shakespeare-caesar.txt\n",
      "shakespeare-hamlet.txt\n",
      "shakespeare-macbeth.txt\n",
      "whitman-leaves.txt\n"
     ]
    }
   ],
   "source": [
    "import nltk\n",
    "from nltk.corpus import gutenberg\n",
    "\n",
    "for file_id in gutenberg.fileids():\n",
    "    print(file_id)"
   ]
  },
  {
   "cell_type": "code",
   "execution_count": 6,
   "metadata": {},
   "outputs": [],
   "source": [
    "# Load book data from Gutenberg library\n",
    "books = {}\n",
    "for file_id in gutenberg.fileids():\n",
    "    books[file_id] = gutenberg.raw(file_id)\n",
    "    # print(file_id)\n",
    "\n",
    "# Preprocess the text data\n",
    "# runtime ~ 50s\n",
    "for book_id, text in books.items():\n",
    "    # Tokenize the text\n",
    "    tokens = nltk.word_tokenize(text)\n",
    "    \n",
    "    # Remove stopwords\n",
    "    stop_words = set(nltk.corpus.stopwords.words('english'))\n",
    "    filtered_tokens = [token for token in tokens if token.lower() not in stop_words]\n",
    "    \n",
    "    # Stem the tokens\n",
    "    porter = nltk.PorterStemmer()\n",
    "    stemmed_tokens = [porter.stem(token) for token in filtered_tokens]\n",
    "    \n",
    "    # Store the preprocessed text back in the dictionary\n",
    "    books[book_id] = ' '.join(stemmed_tokens)\n",
    "    "
   ]
  },
  {
   "cell_type": "code",
   "execution_count": 7,
   "metadata": {},
   "outputs": [],
   "source": [
    "genres = {'austen-emma.txt': 'romance', 'austen-persuasion.txt': 'romance', 'austen-sense.txt': 'romance', \n",
    "          'bible-kjv.txt': 'religion', 'blake-poems.txt': 'poetry', 'bryant-stories.txt': 'fiction', \n",
    "          'burgess-busterbrown.txt': 'children', 'carroll-alice.txt': 'children', 'chesterton-ball.txt': 'mystery', \n",
    "          'chesterton-brown.txt': 'mystery', 'chesterton-thursday.txt': 'mystery', 'edgeworth-parents.txt': 'fiction', \n",
    "          'melville-moby_dick.txt': 'adventure', 'milton-paradise.txt': 'poetry', 'shakespeare-caesar.txt': 'tragedy',  \n",
    "          'shakespeare-hamlet.txt' : 'tragedy', 'shakespeare-macbeth.txt' : 'tragedy', 'whitman-leaves.txt' : 'poetry'}\n"
   ]
  },
  {
   "cell_type": "code",
   "execution_count": 8,
   "metadata": {},
   "outputs": [
    {
     "name": "stdout",
     "output_type": "stream",
     "text": [
      "genre encodings :\n",
      "adventure - 0\n",
      "children - 1\n",
      "fiction - 2\n",
      "mystery - 3\n",
      "poetry - 4\n",
      "religion - 5\n",
      "romance - 6\n",
      "tragedy - 7\n"
     ]
    },
    {
     "data": {
      "text/html": [
       "<style>#sk-container-id-2 {color: black;background-color: white;}#sk-container-id-2 pre{padding: 0;}#sk-container-id-2 div.sk-toggleable {background-color: white;}#sk-container-id-2 label.sk-toggleable__label {cursor: pointer;display: block;width: 100%;margin-bottom: 0;padding: 0.3em;box-sizing: border-box;text-align: center;}#sk-container-id-2 label.sk-toggleable__label-arrow:before {content: \"▸\";float: left;margin-right: 0.25em;color: #696969;}#sk-container-id-2 label.sk-toggleable__label-arrow:hover:before {color: black;}#sk-container-id-2 div.sk-estimator:hover label.sk-toggleable__label-arrow:before {color: black;}#sk-container-id-2 div.sk-toggleable__content {max-height: 0;max-width: 0;overflow: hidden;text-align: left;background-color: #f0f8ff;}#sk-container-id-2 div.sk-toggleable__content pre {margin: 0.2em;color: black;border-radius: 0.25em;background-color: #f0f8ff;}#sk-container-id-2 input.sk-toggleable__control:checked~div.sk-toggleable__content {max-height: 200px;max-width: 100%;overflow: auto;}#sk-container-id-2 input.sk-toggleable__control:checked~label.sk-toggleable__label-arrow:before {content: \"▾\";}#sk-container-id-2 div.sk-estimator input.sk-toggleable__control:checked~label.sk-toggleable__label {background-color: #d4ebff;}#sk-container-id-2 div.sk-label input.sk-toggleable__control:checked~label.sk-toggleable__label {background-color: #d4ebff;}#sk-container-id-2 input.sk-hidden--visually {border: 0;clip: rect(1px 1px 1px 1px);clip: rect(1px, 1px, 1px, 1px);height: 1px;margin: -1px;overflow: hidden;padding: 0;position: absolute;width: 1px;}#sk-container-id-2 div.sk-estimator {font-family: monospace;background-color: #f0f8ff;border: 1px dotted black;border-radius: 0.25em;box-sizing: border-box;margin-bottom: 0.5em;}#sk-container-id-2 div.sk-estimator:hover {background-color: #d4ebff;}#sk-container-id-2 div.sk-parallel-item::after {content: \"\";width: 100%;border-bottom: 1px solid gray;flex-grow: 1;}#sk-container-id-2 div.sk-label:hover label.sk-toggleable__label {background-color: #d4ebff;}#sk-container-id-2 div.sk-serial::before {content: \"\";position: absolute;border-left: 1px solid gray;box-sizing: border-box;top: 0;bottom: 0;left: 50%;z-index: 0;}#sk-container-id-2 div.sk-serial {display: flex;flex-direction: column;align-items: center;background-color: white;padding-right: 0.2em;padding-left: 0.2em;position: relative;}#sk-container-id-2 div.sk-item {position: relative;z-index: 1;}#sk-container-id-2 div.sk-parallel {display: flex;align-items: stretch;justify-content: center;background-color: white;position: relative;}#sk-container-id-2 div.sk-item::before, #sk-container-id-2 div.sk-parallel-item::before {content: \"\";position: absolute;border-left: 1px solid gray;box-sizing: border-box;top: 0;bottom: 0;left: 50%;z-index: -1;}#sk-container-id-2 div.sk-parallel-item {display: flex;flex-direction: column;z-index: 1;position: relative;background-color: white;}#sk-container-id-2 div.sk-parallel-item:first-child::after {align-self: flex-end;width: 50%;}#sk-container-id-2 div.sk-parallel-item:last-child::after {align-self: flex-start;width: 50%;}#sk-container-id-2 div.sk-parallel-item:only-child::after {width: 0;}#sk-container-id-2 div.sk-dashed-wrapped {border: 1px dashed gray;margin: 0 0.4em 0.5em 0.4em;box-sizing: border-box;padding-bottom: 0.4em;background-color: white;}#sk-container-id-2 div.sk-label label {font-family: monospace;font-weight: bold;display: inline-block;line-height: 1.2em;}#sk-container-id-2 div.sk-label-container {text-align: center;}#sk-container-id-2 div.sk-container {/* jupyter's `normalize.less` sets `[hidden] { display: none; }` but bootstrap.min.css set `[hidden] { display: none !important; }` so we also need the `!important` here to be able to override the default hidden behavior on the sphinx rendered scikit-learn.org. See: https://github.com/scikit-learn/scikit-learn/issues/21755 */display: inline-block !important;position: relative;}#sk-container-id-2 div.sk-text-repr-fallback {display: none;}</style><div id=\"sk-container-id-2\" class=\"sk-top-container\"><div class=\"sk-text-repr-fallback\"><pre>DecisionTreeClassifier()</pre><b>In a Jupyter environment, please rerun this cell to show the HTML representation or trust the notebook. <br />On GitHub, the HTML representation is unable to render, please try loading this page with nbviewer.org.</b></div><div class=\"sk-container\" hidden><div class=\"sk-item\"><div class=\"sk-estimator sk-toggleable\"><input class=\"sk-toggleable__control sk-hidden--visually\" id=\"sk-estimator-id-2\" type=\"checkbox\" checked><label for=\"sk-estimator-id-2\" class=\"sk-toggleable__label sk-toggleable__label-arrow\">DecisionTreeClassifier</label><div class=\"sk-toggleable__content\"><pre>DecisionTreeClassifier()</pre></div></div></div></div></div>"
      ],
      "text/plain": [
       "DecisionTreeClassifier()"
      ]
     },
     "execution_count": 8,
     "metadata": {},
     "output_type": "execute_result"
    }
   ],
   "source": [
    "from sklearn.model_selection import train_test_split\n",
    "from sklearn.feature_extraction.text import CountVectorizer\n",
    "\n",
    "# Step 1: Create a list of preprocessed book texts and a list of their corresponding genres\n",
    "book_texts = []\n",
    "book_genres = []\n",
    "book_names = []\n",
    "for book_id, text in books.items():\n",
    "    # Check if the book has a genre\n",
    "    if book_id in genres:\n",
    "        # Append the preprocessed text and its genre to their respective lists\n",
    "        book_texts.append(text)\n",
    "        book_genres.append(genres[book_id])\n",
    "        book_names.append(book_id)\n",
    "    else:\n",
    "        # Add a default genre if the book doesn't have one\n",
    "        book_texts.append(text)\n",
    "        book_genres.append('unknown')\n",
    "        book_names.append(book_id)\n",
    "\n",
    "encoded_col = label_encoder.fit_transform(book_genres)\n",
    "print(\"genre encodings :\")\n",
    "for label, value in zip(label_encoder.classes_, label_encoder.transform(label_encoder.classes_)):\n",
    "    print(label, '-', value)\n",
    "book_genres = encoded_col\n",
    "\n",
    "# Step 2: Convert the preprocessed text into a bag of words representation\n",
    "vectorizer = CountVectorizer()\n",
    "X = vectorizer.fit_transform(book_texts)\n",
    "\n",
    "x_train, x_test, y_train, y_test = train_test_split(\n",
    "    X, book_genres, test_size = 0.2, random_state = 42\n",
    ")\n",
    "\n",
    "# Step 3: Train a decision tree classifier on the bag of words representation and their corresponding genres\n",
    "clf = tree.DecisionTreeClassifier()\n",
    "clf.fit(x_train, y_train)"
   ]
  },
  {
   "cell_type": "code",
   "execution_count": 10,
   "metadata": {},
   "outputs": [
    {
     "name": "stdout",
     "output_type": "stream",
     "text": [
      "Name of book\t| Actual Genre\t| Predicted Genre\n",
      "--------------------------------------------------\n",
      "austen-emma.txt\t| romance        \t| romance        \n",
      "austen-persuasion.txt\t| romance        \t| children       \n",
      "bryant-stories.txt\t| mystery        \t| children       \n",
      "burgess-busterbrown.txt\t| fiction        \t| children       \n"
     ]
    }
   ],
   "source": [
    "predictions = clf.predict(x_test)\n",
    "\n",
    "# Print the predicted and actual genres for the test data\n",
    "predicted_genres = label_encoder.inverse_transform(predictions)\n",
    "actual_genres = label_encoder.inverse_transform(y_test)\n",
    "book_names = [book_id for i, book_id in enumerate(books) if i in x_test.indices]\n",
    "\n",
    "print(\"Name of book\\t| Actual Genre\\t| Predicted Genre\")\n",
    "print(\"--------------------------------------------------\")\n",
    "for book, actual, predicted in zip(book_names, actual_genres, predicted_genres):\n",
    "    print(\"{:<15}\\t| {:<15}\\t| {:<15}\".format(book, actual, predicted))"
   ]
  }
 ],
 "metadata": {
  "kernelspec": {
   "display_name": "base",
   "language": "python",
   "name": "python3"
  },
  "language_info": {
   "codemirror_mode": {
    "name": "ipython",
    "version": 3
   },
   "file_extension": ".py",
   "mimetype": "text/x-python",
   "name": "python",
   "nbconvert_exporter": "python",
   "pygments_lexer": "ipython3",
   "version": "3.9.16"
  },
  "orig_nbformat": 4
 },
 "nbformat": 4,
 "nbformat_minor": 2
}
