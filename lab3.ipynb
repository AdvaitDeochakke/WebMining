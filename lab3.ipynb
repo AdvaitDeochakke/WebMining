{
 "cells": [
  {
   "attachments": {},
   "cell_type": "markdown",
   "metadata": {},
   "source": [
    "Importing Stuff"
   ]
  },
  {
   "cell_type": "code",
   "execution_count": 1,
   "metadata": {},
   "outputs": [],
   "source": [
    "import time\n",
    "import string\n",
    "import requests\n",
    "from bs4 import BeautifulSoup\n",
    "import re"
   ]
  },
  {
   "attachments": {},
   "cell_type": "markdown",
   "metadata": {},
   "source": [
    "Global vars"
   ]
  },
  {
   "cell_type": "code",
   "execution_count": 6,
   "metadata": {},
   "outputs": [],
   "source": [
    "visited = set() # Keep track of already visited URLs\n",
    "counter=0 # Total pages with the word 'crawler' in any form\n",
    "\n",
    "regex_pagelink = re.compile(r\"^(/wiki/)((?!:).)*$\") # check regex string here\n",
    "\n",
    "# regex_crawl = re.compile(r\"\\b(crawl)(ing|ed|er|s)?\\b\", re.IGNORECASE)\n",
    "regex_crawl = re.compile(r\"\\b(preliminary)\\b\", re.IGNORECASE)\n"
   ]
  },
  {
   "attachments": {},
   "cell_type": "markdown",
   "metadata": {},
   "source": [
    "Func defs"
   ]
  },
  {
   "cell_type": "code",
   "execution_count": 9,
   "metadata": {},
   "outputs": [],
   "source": [
    "\n",
    "def print_links(links):\n",
    "    for link in links:\n",
    "        #if re.match(regex1, link):\n",
    "        print(link)\n",
    "\n",
    "def clean_all_links(links):\n",
    "    links = list(set(links)) # remove duplicates\n",
    "    for link in links:\n",
    "        if link is None: # remove null links if they made it through\n",
    "            links.remove(link)\n",
    "    return sorted(links) # sort and return \n",
    "\n",
    "def crawl(url):\n",
    "    visited.add(url) # Add current URL to visited set\n",
    "    page = requests.get(url)\n",
    "    soup = BeautifulSoup(page.content, 'html.parser')\n",
    "    main_content = soup.find(\"div\", id=\"mw-content-text\")\n",
    "\n",
    "    all_the_ps = main_content.find_all(\"p\")\n",
    "    links = []\n",
    "    for para in all_the_ps:\n",
    "        mylinks = para.find_all(\"a\", href=regex_pagelink)\n",
    "        for link1 in mylinks:\n",
    "            links.append(link1.get(\"href\"))\n",
    "\n",
    "    links = clean_all_links(links)\n",
    "    # print_links(len(links))\n",
    "    with requests.Session() as s:\n",
    "        # opening a session, can help with rate limits\n",
    "        for link in links:\n",
    "            curpage = requests.get(f\"https://en.wikipedia.org{link}\")\n",
    "            cursoup = BeautifulSoup(curpage.content, 'html.parser')\n",
    "            if regex_crawl.search(cursoup.text) is not None:\n",
    "                print(\"WOO Found a hit for the regex specified at the link - \", f\"https://en.wikipedia.org{link}\")\n",
    "                time.sleep(1)\n",
    "                print(\"Above Link Found the Search Term\")\n",
    "                global counter\n",
    "                counter= counter+1\n",
    "            else:\n",
    "                time.sleep(1)\n",
    "                print(\"sleeping on the link\", f\"https://en.wikipedia.org{link}\", \"with no result\", sep=\" \")\n",
    "                # Add delay of 0.05 seconds\n",
    "    print(\"total pages with the word\\\"Crawler\\\" in them is :\", counter)"
   ]
  },
  {
   "attachments": {},
   "cell_type": "markdown",
   "metadata": {},
   "source": [
    "Main running. Keep in mind, theres 115 links it has to check, and wikipedia rate limiting even with a 0.1s delay.\n",
    "\n",
    "(After running, very interesting note, that the phrase \"crawl\" simply does not appear in an astoundingly high number of linked pages.)\n",
    "\n",
    "(Therefore, to keep stuff fast, I just changed the regex search to \"preliminary\" which appears in the Academic Journals page)"
   ]
  },
  {
   "cell_type": "code",
   "execution_count": 10,
   "metadata": {},
   "outputs": [
    {
     "name": "stdout",
     "output_type": "stream",
     "text": [
      "sleeping on the link https://en.wikipedia.org/wiki/AAAI with no result\n",
      "sleeping on the link https://en.wikipedia.org/wiki/ADVISE with no result\n",
      "sleeping on the link https://en.wikipedia.org/wiki/A_priori_probability with no result\n",
      "WOO Found a hit for the regex specified at the link -  https://en.wikipedia.org/wiki/Academic_journal\n",
      "Above Link Found the Search Term\n",
      "sleeping on the link https://en.wikipedia.org/wiki/Aggregate_function with no result\n",
      "sleeping on the link https://en.wikipedia.org/wiki/Analytics with no result\n",
      "sleeping on the link https://en.wikipedia.org/wiki/Anomaly_detection with no result\n",
      "WOO Found a hit for the regex specified at the link -  https://en.wikipedia.org/wiki/Applied_statistics\n",
      "Above Link Found the Search Term\n",
      "sleeping on the link https://en.wikipedia.org/wiki/Artificial_intelligence with no result\n",
      "sleeping on the link https://en.wikipedia.org/wiki/Association_for_Computing_Machinery with no result\n"
     ]
    },
    {
     "ename": "KeyboardInterrupt",
     "evalue": "",
     "output_type": "error",
     "traceback": [
      "\u001b[1;31m---------------------------------------------------------------------------\u001b[0m",
      "\u001b[1;31mKeyboardInterrupt\u001b[0m                         Traceback (most recent call last)",
      "\u001b[1;32m~\\AppData\\Local\\Temp\\ipykernel_14348\\2127948483.py\u001b[0m in \u001b[0;36m<module>\u001b[1;34m\u001b[0m\n\u001b[0;32m      1\u001b[0m \u001b[0mroot_url\u001b[0m \u001b[1;33m=\u001b[0m \u001b[1;34m\"https://en.wikipedia.org/wiki/Data_Mining\"\u001b[0m\u001b[1;33m\u001b[0m\u001b[1;33m\u001b[0m\u001b[0m\n\u001b[1;32m----> 2\u001b[1;33m \u001b[0mcrawl\u001b[0m\u001b[1;33m(\u001b[0m\u001b[0mroot_url\u001b[0m\u001b[1;33m)\u001b[0m\u001b[1;33m\u001b[0m\u001b[1;33m\u001b[0m\u001b[0m\n\u001b[0m",
      "\u001b[1;32m~\\AppData\\Local\\Temp\\ipykernel_14348\\1804619483.py\u001b[0m in \u001b[0;36mcrawl\u001b[1;34m(url)\u001b[0m\n\u001b[0;32m     38\u001b[0m                 \u001b[0mcounter\u001b[0m\u001b[1;33m=\u001b[0m \u001b[0mcounter\u001b[0m\u001b[1;33m+\u001b[0m\u001b[1;36m1\u001b[0m\u001b[1;33m\u001b[0m\u001b[1;33m\u001b[0m\u001b[0m\n\u001b[0;32m     39\u001b[0m             \u001b[1;32melse\u001b[0m\u001b[1;33m:\u001b[0m\u001b[1;33m\u001b[0m\u001b[1;33m\u001b[0m\u001b[0m\n\u001b[1;32m---> 40\u001b[1;33m                 \u001b[0mtime\u001b[0m\u001b[1;33m.\u001b[0m\u001b[0msleep\u001b[0m\u001b[1;33m(\u001b[0m\u001b[1;36m1\u001b[0m\u001b[1;33m)\u001b[0m\u001b[1;33m\u001b[0m\u001b[1;33m\u001b[0m\u001b[0m\n\u001b[0m\u001b[0;32m     41\u001b[0m                 \u001b[0mprint\u001b[0m\u001b[1;33m(\u001b[0m\u001b[1;34m\"sleeping on the link\"\u001b[0m\u001b[1;33m,\u001b[0m \u001b[1;34mf\"https://en.wikipedia.org{link}\"\u001b[0m\u001b[1;33m,\u001b[0m \u001b[1;34m\"with no result\"\u001b[0m\u001b[1;33m,\u001b[0m \u001b[0msep\u001b[0m\u001b[1;33m=\u001b[0m\u001b[1;34m\" \"\u001b[0m\u001b[1;33m)\u001b[0m\u001b[1;33m\u001b[0m\u001b[1;33m\u001b[0m\u001b[0m\n\u001b[0;32m     42\u001b[0m                 \u001b[1;31m# Add delay of 0.05 seconds\u001b[0m\u001b[1;33m\u001b[0m\u001b[1;33m\u001b[0m\u001b[0m\n",
      "\u001b[1;31mKeyboardInterrupt\u001b[0m: "
     ]
    }
   ],
   "source": [
    "root_url = \"https://en.wikipedia.org/wiki/Data_Mining\"\n",
    "crawl(root_url)"
   ]
  }
 ],
 "metadata": {
  "kernelspec": {
   "display_name": "base",
   "language": "python",
   "name": "python3"
  },
  "language_info": {
   "codemirror_mode": {
    "name": "ipython",
    "version": 3
   },
   "file_extension": ".py",
   "mimetype": "text/x-python",
   "name": "python",
   "nbconvert_exporter": "python",
   "pygments_lexer": "ipython3",
   "version": "3.9.13"
  },
  "orig_nbformat": 4,
  "vscode": {
   "interpreter": {
    "hash": "d7c46f30ffc0ccba8cc2afcfb8c5ea880eef7da12fdeb64fae7609d603d30008"
   }
  }
 },
 "nbformat": 4,
 "nbformat_minor": 2
}
