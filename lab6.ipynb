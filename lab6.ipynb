{
 "cells": [
  {
   "cell_type": "code",
   "execution_count": 4,
   "metadata": {},
   "outputs": [],
   "source": [
    "#kmeans clustering\n",
    "#20BCE1143\n",
    "#Advait (CSE3024 Web Mining Lab 6)"
   ]
  },
  {
   "attachments": {},
   "cell_type": "markdown",
   "metadata": {},
   "source": [
    "Import all required packages and modules"
   ]
  },
  {
   "cell_type": "code",
   "execution_count": 5,
   "metadata": {},
   "outputs": [],
   "source": [
    "import requests\n",
    "import bs4\n",
    "from sklearn.naive_bayes import MultinomialNB\n",
    "from sklearn.feature_extraction.text import TfidfVectorizer\n",
    "from sklearn.pipeline import make_pipeline\n",
    "from sklearn.metrics import confusion_matrix\n",
    "import time\n",
    "import random"
   ]
  },
  {
   "attachments": {},
   "cell_type": "markdown",
   "metadata": {},
   "source": [
    "Define the two categories of text we will be classifying"
   ]
  },
  {
   "cell_type": "code",
   "execution_count": 6,
   "metadata": {},
   "outputs": [],
   "source": [
    "#two categories of Fiction Discussion and Gaming\n",
    "#from site https://forums.sufficientvelocity.com/forums \n",
    "#<note to self> increase categories to check clustering\n",
    "\n",
    "gaming = \"https://forums.sufficientvelocity.com/forums/gaming.8/page-\"\n",
    "fiction = \"https://forums.sufficientvelocity.com/forums/fiction-discussion.10/page-\"\n",
    "versus = \"https://forums.sufficientvelocity.com/forums/versus-debates.7/page-\"\n",
    "warpeace = \"https://forums.sufficientvelocity.com/forums/war-peace.6/page-\"\n",
    "quests = \"https://forums.sufficientvelocity.com/forums/quests.29/page-\"\n",
    "userfiction = \"https://forums.sufficientvelocity.com/forums/user-fiction.2/page-\"\n",
    "\n",
    "categories = [gaming, fiction, versus, warpeace, quests, userfiction]\n",
    "\n",
    "#each page has a list of threads with extensive discussion on each thread.\n",
    "#can take the discussion into account as well, but navigation is an issue\n",
    "#if only thread title, then sample size can become an issue"
   ]
  },
  {
   "attachments": {},
   "cell_type": "markdown",
   "metadata": {},
   "source": [
    "Create a function to return a list with all the titles of a particular category\n",
    "We also use the function to iterate over a sample of webpages\n",
    "\n",
    "Another method of doing this is to archive text from the over 300+ pages between the two categories and select a subset, but rate limiting is an issue"
   ]
  },
  {
   "cell_type": "code",
   "execution_count": 7,
   "metadata": {},
   "outputs": [],
   "source": [
    "def returnTitles(pageNos, givenUrl):\n",
    "    titles = []\n",
    "    for pageNum in pageNos:\n",
    "        #access the url by appending the page number to the end of the string\n",
    "        url = givenUrl + str(pageNum)\n",
    "        #print(url)\n",
    "        response = requests.get(url)\n",
    "        content = response.content\n",
    "        soup = bs4.BeautifulSoup(content, \"html.parser\")\n",
    "        \n",
    "        curPageTitles = soup.findAll(\"div\", class_=\"structItem-title\")\n",
    "        for title in curPageTitles:\n",
    "            titles.append(title.find(\"a\").text)\n",
    "        \n",
    "        #wait for a sec to stop overload\n",
    "        time.sleep(1)\n",
    "    \n",
    "    return titles\n"
   ]
  },
  {
   "attachments": {},
   "cell_type": "markdown",
   "metadata": {},
   "source": [
    "code to create a train test dataset of randomly selected webpages"
   ]
  },
  {
   "cell_type": "code",
   "execution_count": 12,
   "metadata": {},
   "outputs": [
    {
     "name": "stdout",
     "output_type": "stream",
     "text": [
      "Pages chosen for training are: \n",
      "[[28, 92, 53, 42, 40], [77, 97, 60, 85, 17], [96, 31, 77, 62, 51], [54, 32, 79, 6, 68], [87, 92, 42, 62, 19], [47, 34, 94, 26, 3]]\n",
      "Pages chosen for testing are:\n",
      "[[34], [98], [32], [16], [14], [63]]\n"
     ]
    }
   ],
   "source": [
    "def sample_sets(n, m, k):\n",
    "    numbers = random.sample(range(1, n+1), m)\n",
    "    return numbers[:k], numbers[k:]\n",
    "\n",
    "total_numbers = 100\n",
    "sample_size = int(((40/len(categories))-(40/len(categories))%1))\n",
    "test_size = 1\n",
    "\n",
    "train_sets = []\n",
    "test_sets = []\n",
    "\n",
    "for category in categories:\n",
    "    train, test = sample_sets(total_numbers, sample_size, sample_size-test_size)\n",
    "    train_sets.append(train)\n",
    "    test_sets.append(test)\n",
    "    \n",
    "# gaming_train, gaming_test = sample_sets(total_numbers, sample_size, sample_size - test_size)\n",
    "# fiction_train, fiction_test = sample_sets(total_numbers, sample_size, sample_size - test_size)\n",
    "\n",
    "print(\"Pages chosen for training are: \")\n",
    "print(train_sets)\n",
    "\n",
    "print(\"Pages chosen for testing are:\")\n",
    "print(test_sets)\n"
   ]
  },
  {
   "attachments": {},
   "cell_type": "markdown",
   "metadata": {},
   "source": [
    "run the code to obtain the various pages\n",
    "\n",
    "Going to take a long while because I added the 1 sec sleep per page to be polite\n"
   ]
  },
  {
   "cell_type": "code",
   "execution_count": 6,
   "metadata": {},
   "outputs": [],
   "source": [
    "#structId-title for title\n",
    "#nav next for next page\n",
    "#can go through every other page for a good time-wise distribution\n",
    "\n",
    "gaming_titles = returnTitles(gaming_train, gaming)\n",
    "fiction_titles = returnTitles(fiction_train, fiction)\n"
   ]
  },
  {
   "attachments": {},
   "cell_type": "markdown",
   "metadata": {},
   "source": [
    "Do the same for the test ones"
   ]
  },
  {
   "cell_type": "code",
   "execution_count": 7,
   "metadata": {},
   "outputs": [],
   "source": [
    "gaming_test = returnTitles(gaming_test, gaming)\n",
    "fiction_test = returnTitles(fiction_test, fiction)"
   ]
  },
  {
   "attachments": {},
   "cell_type": "markdown",
   "metadata": {},
   "source": [
    "Label data and combine to form a testing and training group\n",
    "\n",
    "Shuffle or no shuffle doesnt matter"
   ]
  },
  {
   "cell_type": "code",
   "execution_count": 8,
   "metadata": {},
   "outputs": [],
   "source": [
    "# Combine the titles and their respective labels (0 for gaming, 1 for fiction) into two arrays\n",
    "train_data = gaming_titles + fiction_titles\n",
    "train_target = [0] * len(gaming_titles) + [1] * len(fiction_titles)\n",
    "\n",
    "test_data = gaming_test + fiction_test\n",
    "test_target = [0] * len(gaming_test) + [1] * len(fiction_test)"
   ]
  },
  {
   "attachments": {},
   "cell_type": "markdown",
   "metadata": {},
   "source": [
    "pieline and prediction combined"
   ]
  },
  {
   "cell_type": "code",
   "execution_count": 9,
   "metadata": {},
   "outputs": [],
   "source": [
    "def create_model(train_data, train_target, test_data, test_target):\n",
    "    model = make_pipeline(TfidfVectorizer(), MultinomialNB())\n",
    "    model.fit(train_data, train_target)\n",
    "    labels = model.predict(test_data)\n",
    "    return labels"
   ]
  },
  {
   "cell_type": "code",
   "execution_count": 10,
   "metadata": {},
   "outputs": [],
   "source": [
    "# Train and test the model\n",
    "labels = create_model(train_data, train_target, test_data, test_target)"
   ]
  },
  {
   "attachments": {},
   "cell_type": "markdown",
   "metadata": {},
   "source": [
    "Check accuracy with a confusion matrix"
   ]
  },
  {
   "cell_type": "code",
   "execution_count": 11,
   "metadata": {},
   "outputs": [
    {
     "name": "stdout",
     "output_type": "stream",
     "text": [
      "Confusion Matrix:\n",
      "[[18 12]\n",
      " [ 9 21]]\n"
     ]
    }
   ],
   "source": [
    "# Create the confusion matrix\n",
    "confusion_matrix = confusion_matrix(test_target, labels)\n",
    "\n",
    "# Print the confusion matrix\n",
    "print(\"Confusion Matrix:\")\n",
    "print(confusion_matrix)"
   ]
  },
  {
   "attachments": {},
   "cell_type": "markdown",
   "metadata": {},
   "source": [
    "Not great accuracy, shows that gaming and fiction might be pretty closely related as a takeaway\n"
   ]
  }
 ],
 "metadata": {
  "kernelspec": {
   "display_name": "base",
   "language": "python",
   "name": "python3"
  },
  "language_info": {
   "codemirror_mode": {
    "name": "ipython",
    "version": 3
   },
   "file_extension": ".py",
   "mimetype": "text/x-python",
   "name": "python",
   "nbconvert_exporter": "python",
   "pygments_lexer": "ipython3",
   "version": "3.9.13"
  },
  "orig_nbformat": 4,
  "vscode": {
   "interpreter": {
    "hash": "d7c46f30ffc0ccba8cc2afcfb8c5ea880eef7da12fdeb64fae7609d603d30008"
   }
  }
 },
 "nbformat": 4,
 "nbformat_minor": 2
}
